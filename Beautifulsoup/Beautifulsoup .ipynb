{
 "cells": [
  {
   "cell_type": "code",
   "execution_count": 3,
   "id": "58f05759-01c7-4558-a535-ff4f51814700",
   "metadata": {},
   "outputs": [],
   "source": [
    "from bs4 import BeautifulSoup"
   ]
  },
  {
   "cell_type": "code",
   "execution_count": 6,
   "id": "c1db0858-71cb-4771-9082-a73d03ba0882",
   "metadata": {},
   "outputs": [
    {
     "name": "stdout",
     "output_type": "stream",
     "text": [
      "<!DOCTYPE html>\n",
      "\n",
      "<html>\n",
      "<head>\n",
      "<title>Page Title</title>\n",
      "</head>\n",
      "<body>\n",
      "<h1>This is a Heading</h1>\n",
      "<p>This is a paragraph.</p>\n",
      "</body>\n",
      "</html>\n",
      "\n"
     ]
    }
   ],
   "source": [
    "with open(\"file.html\",'r') as f:\n",
    "    doc = BeautifulSoup(f,'html.parser')\n",
    "    \n",
    "print(doc)\n",
    "    "
   ]
  },
  {
   "cell_type": "code",
   "execution_count": 8,
   "id": "c17142d6-6c55-4cfa-980e-48810cec9610",
   "metadata": {},
   "outputs": [
    {
     "name": "stdout",
     "output_type": "stream",
     "text": [
      "<!DOCTYPE html>\n",
      "<html>\n",
      " <head>\n",
      "  <title>\n",
      "   Page Title\n",
      "  </title>\n",
      " </head>\n",
      " <body>\n",
      "  <h1>\n",
      "   This is a Heading\n",
      "  </h1>\n",
      "  <p>\n",
      "   This is a paragraph.\n",
      "  </p>\n",
      " </body>\n",
      "</html>\n",
      "\n"
     ]
    }
   ],
   "source": [
    "print(doc.prettify())  #its help to print with coreect indentation"
   ]
  },
  {
   "cell_type": "code",
   "execution_count": 10,
   "id": "ec400715-dd10-4d9f-9487-57360998464a",
   "metadata": {},
   "outputs": [
    {
     "name": "stdout",
     "output_type": "stream",
     "text": [
      "<title>Page Title</title>\n",
      "<h1>This is a Heading</h1>\n"
     ]
    }
   ],
   "source": [
    "# searching datas from the html file \n",
    "\n",
    "tag = doc.title\n",
    "print(tag)\n",
    "\n",
    "tag2 = doc.h1\n",
    "print(tag2)"
   ]
  },
  {
   "cell_type": "code",
   "execution_count": 11,
   "id": "7d247dd0-5671-4ecb-a57d-38dc71148085",
   "metadata": {},
   "outputs": [
    {
     "name": "stdout",
     "output_type": "stream",
     "text": [
      "Page Title\n"
     ]
    }
   ],
   "source": [
    "# if we want to extract the data from the tag\n",
    "\n",
    "tag2 = doc.title.string\n",
    "\n",
    "print(tag2)"
   ]
  },
  {
   "cell_type": "code",
   "execution_count": 12,
   "id": "77007866-43f8-4f40-b99b-767e4df2fb9e",
   "metadata": {},
   "outputs": [],
   "source": [
    "# if we want to modify the data inside the tag\n",
    "# its also get changes in document\n",
    "\n",
    "tag2.string = 'hello Jayesh'"
   ]
  },
  {
   "cell_type": "code",
   "execution_count": 13,
   "id": "c6933a96-f909-4341-af91-88dc772a1c29",
   "metadata": {},
   "outputs": [
    {
     "data": {
      "text/plain": [
       "'hello Jayesh'"
      ]
     },
     "execution_count": 13,
     "metadata": {},
     "output_type": "execute_result"
    }
   ],
   "source": [
    "tag2.string"
   ]
  },
  {
   "cell_type": "code",
   "execution_count": 15,
   "id": "17dde3c9-24c9-4522-8d2b-bbd88564c4f0",
   "metadata": {},
   "outputs": [
    {
     "data": {
      "text/plain": [
       "[<head>\n",
       " <title>Page Title</title>\n",
       " </head>]"
      ]
     },
     "execution_count": 15,
     "metadata": {},
     "output_type": "execute_result"
    }
   ],
   "source": [
    "# for printing all same tags in document\n",
    "\n",
    "tags = doc.find_all('head')\n",
    "tags"
   ]
  },
  {
   "cell_type": "code",
   "execution_count": 42,
   "id": "d936b20c-8564-4e49-a5c2-e492a0515d16",
   "metadata": {},
   "outputs": [],
   "source": [
    "import requests\n",
    "\n",
    "url = \"https://www.amazon.in/s?k=phone\"\n",
    "\n",
    "result = requests.get(url)\n",
    "# print(result.text)"
   ]
  },
  {
   "cell_type": "code",
   "execution_count": 43,
   "id": "23182226-0875-4621-a112-4cdab7ac3a77",
   "metadata": {},
   "outputs": [],
   "source": [
    "doc1 = BeautifulSoup(result.text,\"html.parser\")\n",
    "\n",
    "# print(doc.prettify)"
   ]
  },
  {
   "cell_type": "code",
   "execution_count": 44,
   "id": "e4ccc584-2323-454a-ad80-34d2064f4066",
   "metadata": {},
   "outputs": [
    {
     "name": "stdout",
     "output_type": "stream",
     "text": [
      "[]\n"
     ]
    }
   ],
   "source": [
    "steps = doc1.find_all(text=\"Nokia\")\n",
    "# parent = steps[0].parent\n",
    "print(steps)"
   ]
  },
  {
   "cell_type": "code",
   "execution_count": null,
   "id": "ef1e52dc-653d-4ee8-b5fe-917f8d410a25",
   "metadata": {},
   "outputs": [],
   "source": []
  }
 ],
 "metadata": {
  "kernelspec": {
   "display_name": "Python 3 (ipykernel)",
   "language": "python",
   "name": "python3"
  },
  "language_info": {
   "codemirror_mode": {
    "name": "ipython",
    "version": 3
   },
   "file_extension": ".py",
   "mimetype": "text/x-python",
   "name": "python",
   "nbconvert_exporter": "python",
   "pygments_lexer": "ipython3",
   "version": "3.9.16"
  }
 },
 "nbformat": 4,
 "nbformat_minor": 5
}
