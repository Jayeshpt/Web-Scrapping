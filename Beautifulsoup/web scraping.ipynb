{
 "cells": [
  {
   "cell_type": "code",
   "execution_count": 35,
   "id": "8fac1bf5-6344-4723-91dd-2d2d5d84a6ca",
   "metadata": {},
   "outputs": [],
   "source": [
    "import pandas as pd\n",
    "import requests\n",
    "from bs4 import BeautifulSoup"
   ]
  },
  {
   "cell_type": "code",
   "execution_count": 36,
   "id": "7f7c14d5-f3cb-4e51-8f8a-c02a78896845",
   "metadata": {
    "jp-MarkdownHeadingCollapsed": true,
    "tags": []
   },
   "outputs": [],
   "source": [
    "# initially we need to apply an http request using requests\n",
    "\n",
    "url = 'https://www.boat-lifestyle.com/collections/bluetooth-wireless-headphones'\n",
    "result = requests.get(url).text\n",
    "doc = BeautifulSoup(result,\"html.parser\")"
   ]
  },
  {
   "cell_type": "code",
   "execution_count": 39,
   "id": "db645635-cac2-4b3e-abae-577bfebe6e75",
   "metadata": {
    "scrolled": true,
    "tags": []
   },
   "outputs": [],
   "source": [
    "tbody = doc.tbody\n",
    "tbody"
   ]
  },
  {
   "cell_type": "code",
   "execution_count": 41,
   "id": "baeb6222-b864-4cb0-b1ab-311597179b4a",
   "metadata": {
    "scrolled": true,
    "tags": []
   },
   "outputs": [
    {
     "ename": "AttributeError",
     "evalue": "'NoneType' object has no attribute 'contents'",
     "output_type": "error",
     "traceback": [
      "\u001b[1;31m---------------------------------------------------------------------------\u001b[0m",
      "\u001b[1;31mAttributeError\u001b[0m                            Traceback (most recent call last)",
      "\u001b[1;32m~\\AppData\\Local\\Temp\\ipykernel_7664\\865433998.py\u001b[0m in \u001b[0;36m<module>\u001b[1;34m\u001b[0m\n\u001b[1;32m----> 1\u001b[1;33m \u001b[0mtrs\u001b[0m \u001b[1;33m=\u001b[0m \u001b[0mtbody\u001b[0m\u001b[1;33m.\u001b[0m\u001b[0mcontents\u001b[0m\u001b[1;33m\u001b[0m\u001b[1;33m\u001b[0m\u001b[0m\n\u001b[0m\u001b[0;32m      2\u001b[0m \u001b[0mtrs\u001b[0m\u001b[1;33m\u001b[0m\u001b[1;33m\u001b[0m\u001b[0m\n",
      "\u001b[1;31mAttributeError\u001b[0m: 'NoneType' object has no attribute 'contents'"
     ]
    }
   ],
   "source": [
    "trs = tbody.contents\n",
    "trs"
   ]
  },
  {
   "cell_type": "code",
   "execution_count": 22,
   "id": "3b0037da-e297-4ce9-be74-8ef3b44d7617",
   "metadata": {
    "scrolled": true,
    "tags": []
   },
   "outputs": [
    {
     "data": {
      "text/plain": [
       "[]"
      ]
     },
     "execution_count": 22,
     "metadata": {},
     "output_type": "execute_result"
    }
   ],
   "source": [
    "soup.find_all('script')"
   ]
  },
  {
   "cell_type": "code",
   "execution_count": 23,
   "id": "524e66b8-c6f7-4f88-8d15-29390bbbb739",
   "metadata": {},
   "outputs": [
    {
     "data": {
      "text/plain": [
       "0"
      ]
     },
     "execution_count": 23,
     "metadata": {},
     "output_type": "execute_result"
    }
   ],
   "source": [
    "len(soup.find_all('input'))"
   ]
  },
  {
   "cell_type": "code",
   "execution_count": 24,
   "id": "7070ad3e-0ce1-486e-85b4-915a5ce83863",
   "metadata": {},
   "outputs": [],
   "source": [
    "for i in soup.find_all('input'):\n",
    "    print(i.text)"
   ]
  },
  {
   "cell_type": "code",
   "execution_count": null,
   "id": "fb119094-1be7-4170-81cf-2c90ff326c20",
   "metadata": {},
   "outputs": [],
   "source": []
  }
 ],
 "metadata": {
  "kernelspec": {
   "display_name": "Python 3 (ipykernel)",
   "language": "python",
   "name": "python3"
  },
  "language_info": {
   "codemirror_mode": {
    "name": "ipython",
    "version": 3
   },
   "file_extension": ".py",
   "mimetype": "text/x-python",
   "name": "python",
   "nbconvert_exporter": "python",
   "pygments_lexer": "ipython3",
   "version": "3.9.16"
  }
 },
 "nbformat": 4,
 "nbformat_minor": 5
}
