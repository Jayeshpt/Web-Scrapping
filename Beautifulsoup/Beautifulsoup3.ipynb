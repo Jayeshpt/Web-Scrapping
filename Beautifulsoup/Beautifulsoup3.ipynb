{
 "cells": [
  {
   "cell_type": "code",
   "execution_count": null,
   "id": "ade63359-3765-49d6-8272-d980dcfcf7be",
   "metadata": {},
   "outputs": [],
   "source": [
    "from bs4 import BeautifulSoup\n",
    "import requests"
   ]
  },
  {
   "cell_type": "code",
   "execution_count": null,
   "id": "03d643bb-0a57-4868-b26c-c1925d12da47",
   "metadata": {},
   "outputs": [],
   "source": [
    "url = \"https://coinmarketcap.com/\"\n",
    "\n",
    "result = requests.get(url).text\n",
    "doc = BeautifulSoup(result,\"html.parser\")"
   ]
  },
  {
   "cell_type": "code",
   "execution_count": null,
   "id": "93a102b7-f24e-4590-ba2a-a3233c29ea4c",
   "metadata": {
    "tags": []
   },
   "outputs": [],
   "source": [
    "tbody = doc.tbody\n",
    "# print(tbody)"
   ]
  },
  {
   "cell_type": "code",
   "execution_count": null,
   "id": "e107d41a-8d78-43f7-809f-3beb6e83a76b",
   "metadata": {
    "tags": []
   },
   "outputs": [],
   "source": [
    "trs = tbody.contents \n",
    "# print(trs)"
   ]
  },
  {
   "cell_type": "code",
   "execution_count": null,
   "id": "ae191af7-93d2-4e44-9346-82c38082c16f",
   "metadata": {},
   "outputs": [],
   "source": [
    "print(trs[0].next_sibling)"
   ]
  },
  {
   "cell_type": "code",
   "execution_count": null,
   "id": "c8f24f48-5f8d-4882-a4ae-1db2afd25f3d",
   "metadata": {},
   "outputs": [],
   "source": [
    "# print(trs[1].previous_sibling)"
   ]
  },
  {
   "cell_type": "code",
   "execution_count": null,
   "id": "f1f9edd6-8642-455a-80ac-3dfda1f7d7cf",
   "metadata": {},
   "outputs": [],
   "source": [
    "# print(list(trs[0].next_siblings))"
   ]
  },
  {
   "cell_type": "code",
   "execution_count": null,
   "id": "a6799769-bb55-4023-b58f-b08f73ccb147",
   "metadata": {},
   "outputs": [],
   "source": [
    "print(list(trs[0].descendants)) #descendants used to get datas inside tag"
   ]
  },
  {
   "cell_type": "code",
   "execution_count": null,
   "id": "1260c537-d30a-42f8-8465-4f2ce3a4ea97",
   "metadata": {},
   "outputs": [],
   "source": [
    "print(list(trs[0].children)) # it will display all the elements even its inside an another tag\n"
   ]
  },
  {
   "cell_type": "code",
   "execution_count": null,
   "id": "a25da563-a791-4d9a-8595-8d13997848b1",
   "metadata": {},
   "outputs": [],
   "source": [
    "prices = {}"
   ]
  },
  {
   "cell_type": "code",
   "execution_count": null,
   "id": "0ec99648-2c8f-491d-a279-c73eb9045b85",
   "metadata": {},
   "outputs": [],
   "source": [
    "# for tr in trs:\n",
    "#     for td in tr.contents:\n",
    "#         print(td)\n",
    "#         print()\n",
    "# it will used to print condent by condent in the table"
   ]
  },
  {
   "cell_type": "code",
   "execution_count": null,
   "id": "591bdc54-9866-43f7-9e18-c6140656b8c7",
   "metadata": {},
   "outputs": [],
   "source": [
    "for tr in trs:\n",
    "    for td in tr.contents[1:2]:\n",
    "        print(td)\n",
    "        print()\n",
    "# it will used to print condent by condent in the table"
   ]
  },
  {
   "cell_type": "code",
   "execution_count": null,
   "id": "b350bf31-9731-4e22-93ee-345b6b4144b9",
   "metadata": {},
   "outputs": [],
   "source": [
    "for tr in trs:\n",
    "    name,price = tr.contents[2:4]\n",
    "    print(name.p)\n",
    "    print()"
   ]
  },
  {
   "cell_type": "code",
   "execution_count": null,
   "id": "d68658f2-a6ab-4b62-bb7f-677ab49aa8cb",
   "metadata": {},
   "outputs": [],
   "source": [
    "for tr in trs[:10]:\n",
    "    name,price = tr.contents[2:4]\n",
    "    print(name.p.string)\n",
    "    print()"
   ]
  },
  {
   "cell_type": "code",
   "execution_count": null,
   "id": "706601c0-1b68-4eec-848d-96cb441353b6",
   "metadata": {},
   "outputs": [],
   "source": [
    "for tr in trs[:10]:\n",
    "    name,price = tr.contents[2:4]\n",
    "    fixed_name = name.p.string\n",
    "    print(price.a.string)"
   ]
  },
  {
   "cell_type": "code",
   "execution_count": null,
   "id": "68402772-472b-4ac2-ba21-30f13ed9a50b",
   "metadata": {},
   "outputs": [],
   "source": [
    "for tr in trs[:10]:\n",
    "    name,price = tr.contents[ 2:4]\n",
    "    fixed_name = name.p.string\n",
    "    fixed_price = price.a.string\n",
    "    \n",
    "prices[fixed_name] = fixed_price\n",
    "    \n",
    "print(prices)"
   ]
  },
  {
   "cell_type": "code",
   "execution_count": null,
   "id": "ab428946-15be-49fd-8bf9-75a569d1fe21",
   "metadata": {},
   "outputs": [],
   "source": []
  }
 ],
 "metadata": {
  "kernelspec": {
   "display_name": "Python 3 (ipykernel)",
   "language": "python",
   "name": "python3"
  },
  "language_info": {
   "codemirror_mode": {
    "name": "ipython",
    "version": 3
   },
   "file_extension": ".py",
   "mimetype": "text/x-python",
   "name": "python",
   "nbconvert_exporter": "python",
   "pygments_lexer": "ipython3",
   "version": "3.9.16"
  }
 },
 "nbformat": 4,
 "nbformat_minor": 5
}
