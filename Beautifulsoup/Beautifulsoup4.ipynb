{
 "cells": [
  {
   "cell_type": "code",
   "execution_count": 2,
   "id": "60d8b1e2-8cec-4129-b495-1a7bdf4a28ce",
   "metadata": {},
   "outputs": [],
   "source": [
    "from bs4 import BeautifulSoup\n",
    "import requests\n",
    "import re"
   ]
  },
  {
   "cell_type": "code",
   "execution_count": null,
   "id": "c987a8e0-f8fc-4b13-b721-8906682d4fa0",
   "metadata": {},
   "outputs": [],
   "source": [
    "gpu = input(\"what product do you want to search for? \")\n",
    "\n",
    "url = \"https://www.boat-lifestyle.com/products/rockerz-103-pro-in-ear-wireless-earphones\"\n",
    "\n",
    "page = requests.get(url).text\n",
    "\n",
    "doc = BeautifulSoup(page,\"html.parser\")\n"
   ]
  },
  {
   "cell_type": "code",
   "execution_count": 9,
   "id": "65626a86-348b-463f-8ccd-365c934f759b",
   "metadata": {},
   "outputs": [
    {
     "data": {
      "text/plain": [
       "[<meta content=\"product\" property=\"og:type\"/>]"
      ]
     },
     "execution_count": 9,
     "metadata": {},
     "output_type": "execute_result"
    }
   ],
   "source": [
    "page_text = doc.find(class_=\"jdgm-paginate__page\")\n",
    "\n",
    "print(page_text)"
   ]
  },
  {
   "cell_type": "code",
   "execution_count": null,
   "id": "4dc71bf4-5816-4d22-9195-9fc59f55c369",
   "metadata": {},
   "outputs": [],
   "source": []
  },
  {
   "cell_type": "code",
   "execution_count": null,
   "id": "abddffa1-c287-454c-a6b1-353ed634a7ea",
   "metadata": {},
   "outputs": [],
   "source": []
  },
  {
   "cell_type": "code",
   "execution_count": null,
   "id": "706425fe-4109-46f2-88af-a152bd354c8b",
   "metadata": {},
   "outputs": [],
   "source": []
  },
  {
   "cell_type": "code",
   "execution_count": null,
   "id": "074b495a-b785-4eed-b403-afe57901cf4d",
   "metadata": {},
   "outputs": [],
   "source": []
  },
  {
   "cell_type": "code",
   "execution_count": null,
   "id": "b9b34616-ce4d-49e8-a45c-b9b9f4a61224",
   "metadata": {},
   "outputs": [],
   "source": []
  },
  {
   "cell_type": "code",
   "execution_count": null,
   "id": "351883b9-4b15-4a84-b44e-b085033aa696",
   "metadata": {},
   "outputs": [],
   "source": []
  },
  {
   "cell_type": "code",
   "execution_count": null,
   "id": "50809fd7-e9fa-4fe5-a983-dc9142668139",
   "metadata": {},
   "outputs": [],
   "source": []
  },
  {
   "cell_type": "code",
   "execution_count": null,
   "id": "0124e62f-378a-4f1e-a4a3-57959214a580",
   "metadata": {},
   "outputs": [],
   "source": []
  },
  {
   "cell_type": "code",
   "execution_count": null,
   "id": "a249d676-3200-46b2-a6cd-143990514068",
   "metadata": {},
   "outputs": [],
   "source": []
  },
  {
   "cell_type": "code",
   "execution_count": null,
   "id": "8a0fdb22-fe75-4aa3-aa4b-3642c5555d3b",
   "metadata": {},
   "outputs": [],
   "source": []
  },
  {
   "cell_type": "code",
   "execution_count": null,
   "id": "2fc03584-0171-4a91-a28f-56a0cf8808e5",
   "metadata": {},
   "outputs": [],
   "source": []
  },
  {
   "cell_type": "code",
   "execution_count": null,
   "id": "ccf3bf92-4e0b-4259-a49a-56b8ab48ea29",
   "metadata": {},
   "outputs": [],
   "source": []
  },
  {
   "cell_type": "code",
   "execution_count": null,
   "id": "f8c13642-c454-482a-8193-b9d2ec72b211",
   "metadata": {},
   "outputs": [],
   "source": []
  },
  {
   "cell_type": "code",
   "execution_count": null,
   "id": "63bbcdea-babf-4461-9fce-2393b6d2d313",
   "metadata": {},
   "outputs": [],
   "source": []
  },
  {
   "cell_type": "code",
   "execution_count": null,
   "id": "9187a76a-9296-45f9-948b-b89fcd0a9a49",
   "metadata": {},
   "outputs": [],
   "source": []
  },
  {
   "cell_type": "code",
   "execution_count": null,
   "id": "57a987b2-01bd-4d6f-9fae-d428c5d6d29e",
   "metadata": {},
   "outputs": [],
   "source": []
  },
  {
   "cell_type": "code",
   "execution_count": null,
   "id": "7c3893a6-7919-4379-bf70-ed24c92dfc3a",
   "metadata": {},
   "outputs": [],
   "source": []
  },
  {
   "cell_type": "code",
   "execution_count": null,
   "id": "6b2e5701-1c1b-4c30-9058-034880b420d7",
   "metadata": {},
   "outputs": [],
   "source": []
  },
  {
   "cell_type": "code",
   "execution_count": 7,
   "id": "01398cad-c1f2-4816-af73-b6217ba1c0b3",
   "metadata": {},
   "outputs": [],
   "source": [
    "# doc"
   ]
  },
  {
   "cell_type": "code",
   "execution_count": 10,
   "id": "ae132231-e77a-470e-9f0b-b02c9076c511",
   "metadata": {},
   "outputs": [],
   "source": [
    "# tags = doc.find_all([\"meta\"],content=\"product\",value =\"\")\n",
    "# tags"
   ]
  },
  {
   "cell_type": "code",
   "execution_count": null,
   "id": "cc49f218-abe5-4e3d-876b-478da8d86ea6",
   "metadata": {},
   "outputs": [],
   "source": []
  }
 ],
 "metadata": {
  "kernelspec": {
   "display_name": "Python 3 (ipykernel)",
   "language": "python",
   "name": "python3"
  },
  "language_info": {
   "codemirror_mode": {
    "name": "ipython",
    "version": 3
   },
   "file_extension": ".py",
   "mimetype": "text/x-python",
   "name": "python",
   "nbconvert_exporter": "python",
   "pygments_lexer": "ipython3",
   "version": "3.9.16"
  }
 },
 "nbformat": 4,
 "nbformat_minor": 5
}
