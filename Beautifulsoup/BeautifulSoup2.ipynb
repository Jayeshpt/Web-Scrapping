{
 "cells": [
  {
   "cell_type": "code",
   "execution_count": 1,
   "id": "f468ba16-f84a-4596-b282-32d5c4544983",
   "metadata": {},
   "outputs": [],
   "source": [
    "from bs4 import BeautifulSoup"
   ]
  },
  {
   "cell_type": "code",
   "execution_count": 2,
   "id": "6920e30b-8d36-4a85-a58f-c1b7973d7f08",
   "metadata": {},
   "outputs": [],
   "source": [
    "with open(\"home.html\",\"r\") as f:\n",
    "    doc = BeautifulSoup(f,\"html.parser\")"
   ]
  },
  {
   "cell_type": "code",
   "execution_count": 3,
   "id": "d22a48cb-72df-469f-bb46-42abf14d89bf",
   "metadata": {},
   "outputs": [
    {
     "data": {
      "text/plain": [
       "{% extends 'base/main.html' %} {% block content %}\n",
       "<div class=\"container\">\n",
       "<div class=\"row\">\n",
       "<div class=\"card mt-5\" style=\"width: 18rem;margin-right: 40px;\">\n",
       "<img alt=\"Card image cap\" class=\"card-img-top\" src=\"https://m.media-amazon.com/images/I/71cngLX2xuL._AC_SL1500_.jpg\"/>\n",
       "<div class=\"card-body\">\n",
       "<h5 class=\"card-title\">Redragon K552 Mechanical Gaming Keyboard</h5>\n",
       "<p class=\"card-text\">\n",
       "                    Redragon K552 Mechanical Gaming Keyboard RGB LED Rainbow Backlit Wired\n",
       "                    Keyboard with Red Switches for Windows Gaming PC (87 Keys, Black) <br/>\n",
       "<h5> INR 2,773.80</h5>\n",
       "</p>\n",
       "<a class=\"btn btn-primary\" href=\"#\">BUY NOW</a>\n",
       "</div>\n",
       "</div>\n",
       "<div class=\"card mt-5\" style=\"width: 18rem;margin-right: 40px;\">\n",
       "<img alt=\"Card image cap\" class=\"card-img-top\" src=\"https://m.media-amazon.com/images/I/71yGtauB-AL._AC_SL1500_.jpg\"/>\n",
       "<div class=\"card-body\">\n",
       "<h5 class=\"card-title\">Havit Mechanical Keyboard</h5>\n",
       "<p class=\"card-text\">\n",
       "                    Havit Mechanical Keyboard, Wired Compact PC Keyboard with Number Pad Red Switch Mechanical Gaming\n",
       "                    Keyboard 89 Keys for Computer/Laptop (Black) <br/>\n",
       "<h5> INR 3,614.60</h5>\n",
       "</p>\n",
       "<a class=\"btn btn-primary\" href=\"#\">BUY NOW</a>\n",
       "</div>\n",
       "</div>\n",
       "<div class=\"card mt-5\" style=\"width: 18rem ;margin-right: 40px;\">\n",
       "<img a=\"\" class=\"card-img-top\" lt=\"Card image cap\" src=\"https://m.media-amazon.com/images/I/61qEIkedEjL._AC_SL1500_.jpg\"/>\n",
       "<div class=\"card-body\">\n",
       "<h5 class=\"card-title\">\n",
       "                    Anivia Mechanical Gaming Keyboard</h5>\n",
       "<p class=\"card-text\">\n",
       "\n",
       "                    Anivia Mechanical Gaming Keyboard, MK1 Wired LED Blue Backlit Keyboard with 87 Key Compact Computer\n",
       "                    Keyboard Win/MacOS/iOS/Android, with Rotary Knob for...\n",
       "\n",
       "                    <br/>\n",
       "<h5>INR 2,521.56</h5>\n",
       "</p>\n",
       "<a class=\"btn btn-primary\" href=\"#\">BUY NOW</a>\n",
       "</div>\n",
       "</div>\n",
       "<div class=\"card mt-5\" style=\"width: 18rem ;margin-right: 35px;\">\n",
       "<img alt=\"Card image cap\" class=\"card-img-top\" src=\"https://m.media-amazon.com/images/I/61mavXpgAWL._AC_SX679_.jpg\"/>\n",
       "<div class=\"card-body\">\n",
       "<h5 class=\"card-title\">\n",
       "                    Womier K87 TKL Keyboard</h5>\n",
       "<p class=\"card-text\">\n",
       "\n",
       "                    Womier K87 TKL Keyboard, Hot Swappable Mechanical Keyboard, 87 Keys Custom Gaming Keyboard, 75% RGB\n",
       "                    Keyboard 6 <br/>\n",
       "<h5>INR 7,566.36</h5>\n",
       "</p>\n",
       "<a class=\"btn btn-primary\" href=\"#\">BUY NOW</a>\n",
       "</div>\n",
       "</div>\n",
       "</div>\n",
       "</div>\n",
       "\n",
       "{% endblock %}"
      ]
     },
     "execution_count": 3,
     "metadata": {},
     "output_type": "execute_result"
    }
   ],
   "source": [
    "doc"
   ]
  },
  {
   "cell_type": "code",
   "execution_count": 5,
   "id": "70b75acd-765f-423e-8d23-c7ae6dfea95c",
   "metadata": {},
   "outputs": [
    {
     "data": {
      "text/plain": [
       "\"{% extends 'base/main.html' %} {% block content %}\\n\\n\\n\\n\\n\\nRedragon K552 Mechanical Gaming Keyboard\\n\\n                    Redragon K552 Mechanical Gaming Keyboard RGB LED Rainbow Backlit Wired\\n                    Keyboard with Red Switches for Windows Gaming PC (87 Keys, Black) \\n INR 2,773.80\\n\\nBUY NOW\\n\\n\\n\\n\\n\\nHavit Mechanical Keyboard\\n\\n                    Havit Mechanical Keyboard, Wired Compact PC Keyboard with Number Pad Red Switch Mechanical Gaming\\n                    Keyboard 89 Keys for Computer/Laptop (Black) \\n INR 3,614.60\\n\\nBUY NOW\\n\\n\\n\\n\\n\\n\\n                    Anivia Mechanical Gaming Keyboard\\n\\n\\n                    Anivia Mechanical Gaming Keyboard, MK1 Wired LED Blue Backlit Keyboard with 87 Key Compact Computer\\n                    Keyboard Win/MacOS/iOS/Android, with Rotary Knob for...\\n\\n                    \\nINR 2,521.56\\n\\nBUY NOW\\n\\n\\n\\n\\n\\n\\n                    Womier K87 TKL Keyboard\\n\\n\\n                    Womier K87 TKL Keyboard, Hot Swappable Mechanical Keyboard, 87 Keys Custom Gaming Keyboard, 75% RGB\\n                    Keyboard 6 \\nINR 7,566.36\\n\\nBUY NOW\\n\\n\\n\\n\\n\\n{% endblock %}\""
      ]
     },
     "execution_count": 5,
     "metadata": {},
     "output_type": "execute_result"
    }
   ],
   "source": [
    "# result = doc.find(\"p\") #finding <p> from the html file\n",
    "# print(result)\n",
    "text = doc.get_text()\n",
    "text"
   ]
  },
  {
   "cell_type": "code",
   "execution_count": 5,
   "id": "e758b320-c585-4e36-a84e-ff6ebbe681a8",
   "metadata": {},
   "outputs": [
    {
     "name": "stdout",
     "output_type": "stream",
     "text": [
      "<p class=\"cardd-text\">\n",
      "                    Redragon K552 Mechanical Gaming Keyboard RGB LED Rainbow Backlit Wired\n",
      "                    Keyboard with Red Switches for Windows Gaming PC (87 Keys, Black) <br/>\n",
      "<h5> INR 2,773.80</h5>\n",
      "</p>\n"
     ]
    }
   ],
   "source": [
    "# to acces and modify the above tag values\n",
    "\n",
    "tag = doc.find(\"p\")\n",
    "tag['class'] = 'cardd-text'\n",
    "print(tag)"
   ]
  },
  {
   "cell_type": "code",
   "execution_count": 6,
   "id": "9c40f901-899a-4bb3-9d47-e5fa087b79f5",
   "metadata": {},
   "outputs": [
    {
     "name": "stdout",
     "output_type": "stream",
     "text": [
      "<p class=\"cardd-text\" color=\"white\">\n",
      "                    Redragon K552 Mechanical Gaming Keyboard RGB LED Rainbow Backlit Wired\n",
      "                    Keyboard with Red Switches for Windows Gaming PC (87 Keys, Black) <br/>\n",
      "<h5> INR 2,773.80</h5>\n",
      "</p>\n"
     ]
    }
   ],
   "source": [
    "# if we want to add atribute \n",
    "\n",
    "tag['color']='white'\n",
    "print(tag)"
   ]
  },
  {
   "cell_type": "code",
   "execution_count": 15,
   "id": "2b9e5a51-42cc-4664-a8ad-5649905d5234",
   "metadata": {},
   "outputs": [],
   "source": [
    "tags = doc.find(['p','h5'])"
   ]
  },
  {
   "cell_type": "code",
   "execution_count": 16,
   "id": "a0e4f423-097e-47d4-b3fc-5e6ab7b540b9",
   "metadata": {},
   "outputs": [
    {
     "data": {
      "text/plain": [
       "<h5 class=\"card-title\">Redragon K552 Mechanical Gaming Keyboard</h5>"
      ]
     },
     "execution_count": 16,
     "metadata": {},
     "output_type": "execute_result"
    }
   ],
   "source": [
    "tags # here we can see only one tag data is present\n"
   ]
  },
  {
   "cell_type": "code",
   "execution_count": 17,
   "id": "12037caf-8abd-44e8-be69-82ff23c17683",
   "metadata": {},
   "outputs": [],
   "source": [
    "# if we want to get multiple tags at a time\n",
    "\n",
    "tags = doc.find_all(['p','h5'])"
   ]
  },
  {
   "cell_type": "code",
   "execution_count": 18,
   "id": "c0f2e084-6943-4205-948a-d874734f024b",
   "metadata": {},
   "outputs": [
    {
     "data": {
      "text/plain": [
       "[<h5 class=\"card-title\">Redragon K552 Mechanical Gaming Keyboard</h5>,\n",
       " <p class=\"cardd-text\" color=\"white\">\n",
       "                     Redragon K552 Mechanical Gaming Keyboard RGB LED Rainbow Backlit Wired\n",
       "                     Keyboard with Red Switches for Windows Gaming PC (87 Keys, Black) <br/>\n",
       " <h5> INR 2,773.80</h5>\n",
       " </p>,\n",
       " <h5> INR 2,773.80</h5>,\n",
       " <h5 class=\"card-title\">Havit Mechanical Keyboard</h5>,\n",
       " <p class=\"card-text\">\n",
       "                     Havit Mechanical Keyboard, Wired Compact PC Keyboard with Number Pad Red Switch Mechanical Gaming\n",
       "                     Keyboard 89 Keys for Computer/Laptop (Black) <br/>\n",
       " <h5> INR 3,614.60</h5>\n",
       " </p>,\n",
       " <h5> INR 3,614.60</h5>,\n",
       " <h5 class=\"card-title\">\n",
       "                     Anivia Mechanical Gaming Keyboard</h5>,\n",
       " <p class=\"card-text\">\n",
       " \n",
       "                     Anivia Mechanical Gaming Keyboard, MK1 Wired LED Blue Backlit Keyboard with 87 Key Compact Computer\n",
       "                     Keyboard Win/MacOS/iOS/Android, with Rotary Knob for...\n",
       " \n",
       "                     <br/>\n",
       " <h5>INR 2,521.56</h5>\n",
       " </p>,\n",
       " <h5>INR 2,521.56</h5>,\n",
       " <h5 class=\"card-title\">\n",
       "                     Womier K87 TKL Keyboard</h5>,\n",
       " <p class=\"card-text\">\n",
       " \n",
       "                     Womier K87 TKL Keyboard, Hot Swappable Mechanical Keyboard, 87 Keys Custom Gaming Keyboard, 75% RGB\n",
       "                     Keyboard 6 <br/>\n",
       " <h5>INR 7,566.36</h5>\n",
       " </p>,\n",
       " <h5>INR 7,566.36</h5>]"
      ]
     },
     "execution_count": 18,
     "metadata": {},
     "output_type": "execute_result"
    }
   ],
   "source": [
    "tags"
   ]
  },
  {
   "cell_type": "code",
   "execution_count": 23,
   "id": "df9ba661-b152-4481-821a-2ec76863a8f6",
   "metadata": {},
   "outputs": [
    {
     "data": {
      "text/plain": [
       "[<h5>INR 2,521.56</h5>]"
      ]
     },
     "execution_count": 23,
     "metadata": {},
     "output_type": "execute_result"
    }
   ],
   "source": [
    "tags = doc.find_all([\"h5\"], text=\"INR 2,521.56\")\n",
    "\n",
    "tags"
   ]
  },
  {
   "cell_type": "code",
   "execution_count": 27,
   "id": "b8daf492-a213-42b8-9a59-83a3aa5b00c1",
   "metadata": {},
   "outputs": [
    {
     "data": {
      "text/plain": [
       "[<p class=\"cardd-text\" color=\"white\">\n",
       "                     Redragon K552 Mechanical Gaming Keyboard RGB LED Rainbow Backlit Wired\n",
       "                     Keyboard with Red Switches for Windows Gaming PC (87 Keys, Black) <br/>\n",
       " <h5> INR 2,773.80</h5>\n",
       " </p>]"
      ]
     },
     "execution_count": 27,
     "metadata": {},
     "output_type": "execute_result"
    }
   ],
   "source": [
    "tags = doc.find_all([\"p\"], color=\"white\")\n",
    "\n",
    "tags"
   ]
  },
  {
   "cell_type": "code",
   "execution_count": 30,
   "id": "e4a9b91c-ed9d-4635-a832-d65d7a5be2ba",
   "metadata": {},
   "outputs": [
    {
     "data": {
      "text/plain": [
       "[<p class=\"card-text\">\n",
       "                     Havit Mechanical Keyboard, Wired Compact PC Keyboard with Number Pad Red Switch Mechanical Gaming\n",
       "                     Keyboard 89 Keys for Computer/Laptop (Black) <br/>\n",
       " <h5> INR 3,614.60</h5>\n",
       " </p>,\n",
       " <p class=\"card-text\">\n",
       " \n",
       "                     Anivia Mechanical Gaming Keyboard, MK1 Wired LED Blue Backlit Keyboard with 87 Key Compact Computer\n",
       "                     Keyboard Win/MacOS/iOS/Android, with Rotary Knob for...\n",
       " \n",
       "                     <br/>\n",
       " <h5>INR 2,521.56</h5>\n",
       " </p>,\n",
       " <p class=\"card-text\">\n",
       " \n",
       "                     Womier K87 TKL Keyboard, Hot Swappable Mechanical Keyboard, 87 Keys Custom Gaming Keyboard, 75% RGB\n",
       "                     Keyboard 6 <br/>\n",
       " <h5>INR 7,566.36</h5>\n",
       " </p>]"
      ]
     },
     "execution_count": 30,
     "metadata": {},
     "output_type": "execute_result"
    }
   ],
   "source": [
    "# when we searching tag with parameters like class=\n",
    "# class is already predifined in python so instead of that we can use class_\n",
    "\n",
    "tags = doc.find_all(['p'],class_=\"card-text\")\n",
    "tags"
   ]
  },
  {
   "cell_type": "code",
   "execution_count": 38,
   "id": "97986ea2-dc66-4f63-90ed-e3dec9033ffe",
   "metadata": {},
   "outputs": [
    {
     "data": {
      "text/plain": [
       "[\"{% extends 'base/main.html' %} {% block content %}\\n\",\n",
       " '\\n\\n                    Womier K87 TKL Keyboard, Hot Swappable Mechanical Keyboard, 87 Keys Custom Gaming Keyboard, 75% RGB\\n                    Keyboard 6 ',\n",
       " '\\n\\n{% endblock %}']"
      ]
     },
     "execution_count": 38,
     "metadata": {},
     "output_type": "execute_result"
    }
   ],
   "source": [
    "# how to use re(regualar expression)\n",
    "import re\n",
    "tags = doc.find_all(text=re.compile(\"\\%\"))\n",
    "tags"
   ]
  },
  {
   "cell_type": "code",
   "execution_count": 39,
   "id": "c3befd73-1383-4f9a-8a1c-13d62190ed05",
   "metadata": {},
   "outputs": [
    {
     "name": "stdout",
     "output_type": "stream",
     "text": [
      "{% extends 'base/main.html' %} {% block content %}\n",
      "Womier K87 TKL Keyboard, Hot Swappable Mechanical Keyboard, 87 Keys Custom Gaming Keyboard, 75% RGB\n",
      "                    Keyboard 6\n",
      "{% endblock %}\n"
     ]
    }
   ],
   "source": [
    "tags = doc.find_all(text=re.compile(\"\\%\"))\n",
    "for tag in tags:\n",
    "    print(tag.strip())\n"
   ]
  },
  {
   "cell_type": "code",
   "execution_count": 40,
   "id": "a674697f-662e-4c9d-989f-00f7f3b4ed52",
   "metadata": {},
   "outputs": [
    {
     "name": "stdout",
     "output_type": "stream",
     "text": [
      "{% extends 'base/main.html' %} {% block content %}\n"
     ]
    }
   ],
   "source": [
    "# to limit the file when we searching data\n",
    "\n",
    "tags = doc.find_all(text=re.compile(\"\\%\"),limit=1)\n",
    "for tag in tags:\n",
    "    print(tag.strip())"
   ]
  },
  {
   "cell_type": "code",
   "execution_count": 41,
   "id": "56494a4a-062f-4406-aa0d-0ad2df3707c6",
   "metadata": {},
   "outputs": [],
   "source": [
    "# how to make changes in html file and save\n",
    "\n",
    "tags = doc.find_all(\"p\",class_=\"card-text\")\n",
    "for tag in tags:\n",
    "    tag['color']='blue'\n",
    " \n"
   ]
  },
  {
   "cell_type": "code",
   "execution_count": 42,
   "id": "e9ef3601-d0d7-4953-a967-f73313c9e528",
   "metadata": {},
   "outputs": [
    {
     "data": {
      "text/plain": [
       "{% extends 'base/main.html' %} {% block content %}\n",
       "<div class=\"container\">\n",
       "<div class=\"row\">\n",
       "<div class=\"card mt-5\" style=\"width: 18rem;margin-right: 40px;\">\n",
       "<img alt=\"Card image cap\" class=\"card-img-top\" src=\"https://m.media-amazon.com/images/I/71cngLX2xuL._AC_SL1500_.jpg\"/>\n",
       "<div class=\"card-body\">\n",
       "<h5 class=\"card-title\">Redragon K552 Mechanical Gaming Keyboard</h5>\n",
       "<p class=\"cardd-text\" color=\"white\">\n",
       "                    Redragon K552 Mechanical Gaming Keyboard RGB LED Rainbow Backlit Wired\n",
       "                    Keyboard with Red Switches for Windows Gaming PC (87 Keys, Black) <br/>\n",
       "<h5> INR 2,773.80</h5>\n",
       "</p>\n",
       "<a class=\"btn btn-primary\" href=\"#\">BUY NOW</a>\n",
       "</div>\n",
       "</div>\n",
       "<div class=\"card mt-5\" style=\"width: 18rem;margin-right: 40px;\">\n",
       "<img alt=\"Card image cap\" class=\"card-img-top\" src=\"https://m.media-amazon.com/images/I/71yGtauB-AL._AC_SL1500_.jpg\"/>\n",
       "<div class=\"card-body\">\n",
       "<h5 class=\"card-title\">Havit Mechanical Keyboard</h5>\n",
       "<p class=\"card-text\" color=\"blue\">\n",
       "                    Havit Mechanical Keyboard, Wired Compact PC Keyboard with Number Pad Red Switch Mechanical Gaming\n",
       "                    Keyboard 89 Keys for Computer/Laptop (Black) <br/>\n",
       "<h5> INR 3,614.60</h5>\n",
       "</p>\n",
       "<a class=\"btn btn-primary\" href=\"#\">BUY NOW</a>\n",
       "</div>\n",
       "</div>\n",
       "<div class=\"card mt-5\" style=\"width: 18rem ;margin-right: 40px;\">\n",
       "<img a=\"\" class=\"card-img-top\" lt=\"Card image cap\" src=\"https://m.media-amazon.com/images/I/61qEIkedEjL._AC_SL1500_.jpg\"/>\n",
       "<div class=\"card-body\">\n",
       "<h5 class=\"card-title\">\n",
       "                    Anivia Mechanical Gaming Keyboard</h5>\n",
       "<p class=\"card-text\" color=\"blue\">\n",
       "\n",
       "                    Anivia Mechanical Gaming Keyboard, MK1 Wired LED Blue Backlit Keyboard with 87 Key Compact Computer\n",
       "                    Keyboard Win/MacOS/iOS/Android, with Rotary Knob for...\n",
       "\n",
       "                    <br/>\n",
       "<h5>INR 2,521.56</h5>\n",
       "</p>\n",
       "<a class=\"btn btn-primary\" href=\"#\">BUY NOW</a>\n",
       "</div>\n",
       "</div>\n",
       "<div class=\"card mt-5\" style=\"width: 18rem ;margin-right: 35px;\">\n",
       "<img alt=\"Card image cap\" class=\"card-img-top\" src=\"https://m.media-amazon.com/images/I/61mavXpgAWL._AC_SX679_.jpg\"/>\n",
       "<div class=\"card-body\">\n",
       "<h5 class=\"card-title\">\n",
       "                    Womier K87 TKL Keyboard</h5>\n",
       "<p class=\"card-text\" color=\"blue\">\n",
       "\n",
       "                    Womier K87 TKL Keyboard, Hot Swappable Mechanical Keyboard, 87 Keys Custom Gaming Keyboard, 75% RGB\n",
       "                    Keyboard 6 <br/>\n",
       "<h5>INR 7,566.36</h5>\n",
       "</p>\n",
       "<a class=\"btn btn-primary\" href=\"#\">BUY NOW</a>\n",
       "</div>\n",
       "</div>\n",
       "</div>\n",
       "</div>\n",
       "\n",
       "{% endblock %}"
      ]
     },
     "execution_count": 42,
     "metadata": {},
     "output_type": "execute_result"
    }
   ],
   "source": [
    "doc"
   ]
  },
  {
   "cell_type": "code",
   "execution_count": null,
   "id": "cd7de978-7b07-4587-934f-8debda4e4191",
   "metadata": {},
   "outputs": [],
   "source": []
  }
 ],
 "metadata": {
  "kernelspec": {
   "display_name": "Python 3 (ipykernel)",
   "language": "python",
   "name": "python3"
  },
  "language_info": {
   "codemirror_mode": {
    "name": "ipython",
    "version": 3
   },
   "file_extension": ".py",
   "mimetype": "text/x-python",
   "name": "python",
   "nbconvert_exporter": "python",
   "pygments_lexer": "ipython3",
   "version": "3.9.16"
  }
 },
 "nbformat": 4,
 "nbformat_minor": 5
}
